{
  "cells": [
    {
      "cell_type": "markdown",
      "source": [
        "\n",
        "Trabajo: Ejercicio de evaluación de prestaciones\n",
        "=======\n",
        "\n",
        "El trabajo consistirá en la resolución por escrito del siguiente ejercicio:\n",
        "\n",
        "De un procesado vectorial y su modo de ejecución se sabe lo siguiente: \n",
        "\n",
        "\t\tFrecuencia de trabajo: 500 MHz  \n",
        "\t\tMVL: 16 componentes  \n",
        "\t\tDispone de una sola unidad de carga/almacenamiento de memoria, un único multiplicador y un único sumador.  \n",
        "\t\tTBASE = 15 ciclos  \n",
        "\t\tTBUCLE = 10 ciclos\n",
        "  \n",
        "  \n",
        "En estas condiciones se ejecuta el bucle:\n",
        "\n",
        "\tfor (i = 0 ; i < 342 ; i++)\n",
        "\t\tZ[i] = a * Z[i] + b * X[i];\n",
        "\n",
        "Teniendo en cuenta que la figura, representa la temporización de la secuencia de instrucciones vectoriales que implementan Z= a*Z+b*X para un trozo de vector de 16 componentes, se pide:\n",
        "\n",
        " \tCalcula para el bucle, el tiempo de ejecución, T(342), el R(342) y el valor de R∞.  \n",
        "\t \n",
        " \tRepite el apartado anterior suponiendo que se dispone de 2 multiplicadores y de 3 unidades de carga/almacenamiento.\n",
        "\n",
        " \n",
        "\n"
      ],
      "metadata": {}
    },
    {
      "cell_type": "markdown",
      "source": [
        "\n",
        "\n",
        "De la imagen podemos obtener el tiempo de ejecucion para 1 suma, 1 multiplicación y 1 carga/almacenamiento:  \n",
        "\n",
        "                1 suma / 5 ciclos  \n",
        "                1 multiplicación / 10 ciclos  \n",
        "                1 carga-almacenamiento / 8 ciclos \n",
        "\n",
        "Tambien podemos obtener el tiempo de arranque $T_{a}$ = 8 + 10 + 8 + 10 + 5 + 8 = 49 ciclos  \n",
        "Juntamos las operaciones en 2 convoys\n",
        "\n",
        "Calculamos el tiempo de ejecución para  $T_{342}$  mediante la siguiente expresión:  \n",
        "\n",
        "$$\n",
        " T_{342} = Tbase + [\\frac{n}{MVL}]  \\times (Tbucle + Tarranque) + n \\times Telemento\n",
        "$$\n",
        "\n",
        "Sustituimos y el resultado sale:\n",
        "\n",
        "\n",
        "$$\n",
        " T_{342} = 15 + [\\frac{342}{16}]  \\times (10 + 49) + 342 \\times 2 = 1960.125 \\textrm{ ciclos}\n",
        "$$\n",
        "\n"
      ],
      "metadata": {}
    },
    {
      "cell_type": "markdown",
      "source": [
        "Calculamos el rendimiento en $R_{342}$ mediante la siguiente expresión matematica:\n",
        "\n",
        "\n",
        "$$\n",
        "R_{342} =  \\frac{num. operaciones \\times n \\times f}{T_{n}}\n",
        "$$\n",
        "\n",
        "Sustituimos y hallamos el rendimiento (Se producen 3 operacioens):\n",
        "\n",
        "$$\n",
        "R_{342} =  \\frac{3 \\times 342 \\times 500 \\times 10^{6}}{15 + [\\frac{342}{16}]  \\times (10 + 49) + 342 \\times 2} = 261,71 \\textrm{ MFLOPS}\n",
        "$$\n",
        "\n"
      ],
      "metadata": {}
    },
    {
      "cell_type": "markdown",
      "source": [
        "Para calcular el rendimiento cuando tiende a infinito, usaremos la siguiente formula:\n",
        "$$\n",
        "R_{\\infty} = \\lim_{n \\to \\infty} \\frac{num. operaciones \\times n }{T_{n}}\n",
        "$$\n",
        "\n",
        "Sustituimos los datos y obtenemos el rendimiento:\n",
        "\n",
        "$$\n",
        "R_{\\infty} = \\lim_{n \\to \\infty} \\frac{3 \\times n }{15 + [\\frac{n}{16}]  \\times (10 + 49) + n \\times 2} = 0,5274 \\textrm{ MFLOPS}\n",
        "$$\n"
      ],
      "metadata": {}
    },
    {
      "cell_type": "markdown",
      "source": [
        "## Repite el apartado anterior suponiendo que se dispone de 2 multiplicadores y de 3 unidades de carga/almacenamiento. ##\n",
        "\n",
        "                1 suma / 5 ciclos  \n",
        "                2 multiplicación / 10 ciclos  \n",
        "                3 carga-almacenamiento / 8 ciclos   \n",
        "                \n",
        "\n",
        "\n",
        "![](ejercicio.png)  \n",
        "\n",
        "  \n",
        "  \n",
        "\n",
        "\n",
        "Calculamos  $T_{342}$ con los nuevos datos:\n",
        "\n",
        "Obtenemos  el tiempo de arranque $T_{a}$ = 8 + 10 + 5 + 8 = 31 ciclos  \n",
        "Juntamos las operaciones en 1 convoy\n",
        "\n",
        "\n",
        "\n",
        "\n",
        "\n"
      ],
      "metadata": {}
    },
    {
      "cell_type": "markdown",
      "source": [
        "\n",
        "$$\n",
        " T_{342} = 15 + [\\frac{342}{16}]  \\times (10 + 31) + 342 \\times 1 = 1.233,375 \\textrm{ ciclos}\n",
        "$$\n",
        "\n",
        "\n",
        "\n",
        "\n",
        "\n"
      ],
      "metadata": {}
    },
    {
      "cell_type": "markdown",
      "source": [
        "Tambien calculamos $R_{342}$\n",
        "\n"
      ],
      "metadata": {}
    },
    {
      "cell_type": "markdown",
      "source": [
        "$$\n",
        "R_{342} =  \\frac{3 \\times 342 \\times 500 \\times 10^{6}}{15 + [\\frac{342}{16}]  \\times (10 + 31) + 342 \\times 1} = 415,931\\textrm{ MFLOPS}\n",
        "$$"
      ],
      "metadata": {}
    },
    {
      "cell_type": "markdown",
      "source": [
        "Y por último $R_{\\infty}$\n",
        "\n"
      ],
      "metadata": {}
    },
    {
      "cell_type": "markdown",
      "source": [
        "$$\n",
        "R_{\\infty} = \\lim_{n \\to \\infty} \\frac{3 \\times n }{15 + [\\frac{n}{16}]  \\times (10 + 31) + n \\times 1} = 1,1707 \\textrm{ MFLOPS}\n",
        "$$\n",
        "\n"
      ],
      "metadata": {}
    }
  ],
  "metadata": {
    "pygments_lexer": "ipython3",
    "orig_nbformat": 2,
    "name": "python",
    "mimetype": "text/x-python",
    "npconvert_exporter": "python",
    "language_info": {
      "name": "javascript",
      "version": "12.0.0",
      "mimetype": "application/javascript",
      "file_extension": ".js"
    },
    "version": 3,
    "kernelspec": {
      "name": "python3",
      "display_name": "Python 3"
    },
    "file_extension": ".py",
    "nteract": {
      "version": "0.23.1"
    }
  },
  "nbformat": 4,
  "nbformat_minor": 2
}